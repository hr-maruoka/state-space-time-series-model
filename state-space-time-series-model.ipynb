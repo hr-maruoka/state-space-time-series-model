{
 "cells": [
  {
   "cell_type": "code",
   "execution_count": null,
   "metadata": {},
   "outputs": [],
   "source": [
    "library(rstan)\n",
    "library(tidyverse)\n",
    "library(ggmcmc)\n",
    "library(tidybayes)\n",
    "library(lubridate)"
   ]
  },
  {
   "cell_type": "markdown",
   "metadata": {},
   "source": [
    "# MCMC sampling"
   ]
  },
  {
   "cell_type": "markdown",
   "metadata": {},
   "source": [
    "## load your data"
   ]
  },
  {
   "cell_type": "code",
   "execution_count": 91,
   "metadata": {},
   "outputs": [
    {
     "name": "stderr",
     "output_type": "stream",
     "text": [
      "Parsed with column specification:\n",
      "cols(\n",
      "  year = col_integer(),\n",
      "  month = col_integer(),\n",
      "  pay = col_integer()\n",
      ")\n"
     ]
    }
   ],
   "source": [
    "d <- read_csv(\"time_series.csv\") %>%\n",
    "  arrange(year, month)\n",
    "\n",
    "data <- list()\n",
    "data$T <- nrow(d)\n",
    "data$Y <- d$pay / max(d$pay)\n",
    "data$T_pred <- 12"
   ]
  },
  {
   "cell_type": "markdown",
   "metadata": {},
   "source": [
    "## small sampling"
   ]
  },
  {
   "cell_type": "code",
   "execution_count": null,
   "metadata": {},
   "outputs": [],
   "source": [
    "fit <- stan(file = 'seasonality.stan', data = data, seed = 0,\n",
    "            iter = 700, warmup = 200, chains = 3, control = list(adapt_delta=0.99))"
   ]
  },
  {
   "cell_type": "markdown",
   "metadata": {},
   "source": [
    "## finally, large sampling"
   ]
  },
  {
   "cell_type": "code",
   "execution_count": 95,
   "metadata": {
    "scrolled": false
   },
   "outputs": [
    {
     "name": "stdout",
     "output_type": "stream",
     "text": [
      "\n",
      "SAMPLING FOR MODEL 'seasonality' NOW (CHAIN 1).\n",
      "Chain 1: \n",
      "Chain 1: Gradient evaluation took 5.2e-05 seconds\n",
      "Chain 1: 1000 transitions using 10 leapfrog steps per transition would take 0.52 seconds.\n",
      "Chain 1: Adjust your expectations accordingly!\n",
      "Chain 1: \n",
      "Chain 1: \n",
      "Chain 1: Iteration:    1 / 3000 [  0%]  (Warmup)\n",
      "Chain 1: Iteration:  300 / 3000 [ 10%]  (Warmup)\n",
      "Chain 1: Iteration:  501 / 3000 [ 16%]  (Sampling)\n",
      "Chain 1: Iteration:  800 / 3000 [ 26%]  (Sampling)\n",
      "Chain 1: Iteration: 1100 / 3000 [ 36%]  (Sampling)\n",
      "Chain 1: Iteration: 1400 / 3000 [ 46%]  (Sampling)\n",
      "Chain 1: Iteration: 1700 / 3000 [ 56%]  (Sampling)\n",
      "Chain 1: Iteration: 2000 / 3000 [ 66%]  (Sampling)\n",
      "Chain 1: Iteration: 2300 / 3000 [ 76%]  (Sampling)\n",
      "Chain 1: Iteration: 2600 / 3000 [ 86%]  (Sampling)\n",
      "Chain 1: Iteration: 2900 / 3000 [ 96%]  (Sampling)\n",
      "Chain 1: Iteration: 3000 / 3000 [100%]  (Sampling)\n",
      "Chain 1: \n",
      "Chain 1:  Elapsed Time: 7.81332 seconds (Warm-up)\n",
      "Chain 1:                55.7256 seconds (Sampling)\n",
      "Chain 1:                63.5389 seconds (Total)\n",
      "Chain 1: \n",
      "\n",
      "SAMPLING FOR MODEL 'seasonality' NOW (CHAIN 2).\n",
      "Chain 2: \n",
      "Chain 2: Gradient evaluation took 3e-05 seconds\n",
      "Chain 2: 1000 transitions using 10 leapfrog steps per transition would take 0.3 seconds.\n",
      "Chain 2: Adjust your expectations accordingly!\n",
      "Chain 2: \n",
      "Chain 2: \n",
      "Chain 2: Iteration:    1 / 3000 [  0%]  (Warmup)\n",
      "Chain 2: Iteration:  300 / 3000 [ 10%]  (Warmup)\n",
      "Chain 2: Iteration:  501 / 3000 [ 16%]  (Sampling)\n",
      "Chain 2: Iteration:  800 / 3000 [ 26%]  (Sampling)\n",
      "Chain 2: Iteration: 1100 / 3000 [ 36%]  (Sampling)\n",
      "Chain 2: Iteration: 1400 / 3000 [ 46%]  (Sampling)\n",
      "Chain 2: Iteration: 1700 / 3000 [ 56%]  (Sampling)\n",
      "Chain 2: Iteration: 2000 / 3000 [ 66%]  (Sampling)\n",
      "Chain 2: Iteration: 2300 / 3000 [ 76%]  (Sampling)\n",
      "Chain 2: Iteration: 2600 / 3000 [ 86%]  (Sampling)\n",
      "Chain 2: Iteration: 2900 / 3000 [ 96%]  (Sampling)\n",
      "Chain 2: Iteration: 3000 / 3000 [100%]  (Sampling)\n",
      "Chain 2: \n",
      "Chain 2:  Elapsed Time: 8.6089 seconds (Warm-up)\n",
      "Chain 2:                55.3331 seconds (Sampling)\n",
      "Chain 2:                63.942 seconds (Total)\n",
      "Chain 2: \n",
      "\n",
      "SAMPLING FOR MODEL 'seasonality' NOW (CHAIN 3).\n",
      "Chain 3: \n",
      "Chain 3: Gradient evaluation took 3.4e-05 seconds\n",
      "Chain 3: 1000 transitions using 10 leapfrog steps per transition would take 0.34 seconds.\n",
      "Chain 3: Adjust your expectations accordingly!\n",
      "Chain 3: \n",
      "Chain 3: \n",
      "Chain 3: Iteration:    1 / 3000 [  0%]  (Warmup)\n",
      "Chain 3: Iteration:  300 / 3000 [ 10%]  (Warmup)\n",
      "Chain 3: Iteration:  501 / 3000 [ 16%]  (Sampling)\n",
      "Chain 3: Iteration:  800 / 3000 [ 26%]  (Sampling)\n",
      "Chain 3: Iteration: 1100 / 3000 [ 36%]  (Sampling)\n",
      "Chain 3: Iteration: 1400 / 3000 [ 46%]  (Sampling)\n",
      "Chain 3: Iteration: 1700 / 3000 [ 56%]  (Sampling)\n",
      "Chain 3: Iteration: 2000 / 3000 [ 66%]  (Sampling)\n",
      "Chain 3: Iteration: 2300 / 3000 [ 76%]  (Sampling)\n",
      "Chain 3: Iteration: 2600 / 3000 [ 86%]  (Sampling)\n",
      "Chain 3: Iteration: 2900 / 3000 [ 96%]  (Sampling)\n",
      "Chain 3: Iteration: 3000 / 3000 [100%]  (Sampling)\n",
      "Chain 3: \n",
      "Chain 3:  Elapsed Time: 7.70581 seconds (Warm-up)\n",
      "Chain 3:                52.9135 seconds (Sampling)\n",
      "Chain 3:                60.6193 seconds (Total)\n",
      "Chain 3: \n",
      "\n",
      "SAMPLING FOR MODEL 'seasonality' NOW (CHAIN 4).\n",
      "Chain 4: \n",
      "Chain 4: Gradient evaluation took 4.2e-05 seconds\n",
      "Chain 4: 1000 transitions using 10 leapfrog steps per transition would take 0.42 seconds.\n",
      "Chain 4: Adjust your expectations accordingly!\n",
      "Chain 4: \n",
      "Chain 4: \n",
      "Chain 4: Iteration:    1 / 3000 [  0%]  (Warmup)\n",
      "Chain 4: Iteration:  300 / 3000 [ 10%]  (Warmup)\n",
      "Chain 4: Iteration:  501 / 3000 [ 16%]  (Sampling)\n",
      "Chain 4: Iteration:  800 / 3000 [ 26%]  (Sampling)\n",
      "Chain 4: Iteration: 1100 / 3000 [ 36%]  (Sampling)\n",
      "Chain 4: Iteration: 1400 / 3000 [ 46%]  (Sampling)\n",
      "Chain 4: Iteration: 1700 / 3000 [ 56%]  (Sampling)\n",
      "Chain 4: Iteration: 2000 / 3000 [ 66%]  (Sampling)\n",
      "Chain 4: Iteration: 2300 / 3000 [ 76%]  (Sampling)\n",
      "Chain 4: Iteration: 2600 / 3000 [ 86%]  (Sampling)\n",
      "Chain 4: Iteration: 2900 / 3000 [ 96%]  (Sampling)\n",
      "Chain 4: Iteration: 3000 / 3000 [100%]  (Sampling)\n",
      "Chain 4: \n",
      "Chain 4:  Elapsed Time: 8.24367 seconds (Warm-up)\n",
      "Chain 4:                56.4243 seconds (Sampling)\n",
      "Chain 4:                64.668 seconds (Total)\n",
      "Chain 4: \n"
     ]
    },
    {
     "name": "stderr",
     "output_type": "stream",
     "text": [
      "Warning message:\n",
      "“There were 6 divergent transitions after warmup. Increasing adapt_delta above 0.99 may help. See\n",
      "http://mc-stan.org/misc/warnings.html#divergent-transitions-after-warmup”Warning message:\n",
      "“There were 9558 transitions after warmup that exceeded the maximum treedepth. Increase max_treedepth above 10. See\n",
      "http://mc-stan.org/misc/warnings.html#maximum-treedepth-exceeded”Warning message:\n",
      "“There were 4 chains where the estimated Bayesian Fraction of Missing Information was low. See\n",
      "http://mc-stan.org/misc/warnings.html#bfmi-low”Warning message:\n",
      "“Examine the pairs() plot to diagnose sampling problems\n",
      "”"
     ]
    }
   ],
   "source": [
    "fit <- stan(file = 'seasonality.stan', data = data, seed = 0,\n",
    "    iter = 3000, warmup = 500, chains = 4, control = list(adapt_delta=0.99))"
   ]
  },
  {
   "cell_type": "markdown",
   "metadata": {},
   "source": [
    "# convergence diagnosis\n",
    "## trace plot"
   ]
  },
  {
   "cell_type": "code",
   "execution_count": 96,
   "metadata": {},
   "outputs": [
    {
     "name": "stdout",
     "output_type": "stream",
     "text": [
      "Plotting traceplots\n",
      "Time taken to generate the report: 230 seconds.\n"
     ]
    }
   ],
   "source": [
    "ggmcmc(ggs(fit, inc_warmup = T, stan_include_auxiliar = T), plot = \"traceplot\",\n",
    "       file = \"./trace.pdf\")"
   ]
  },
  {
   "cell_type": "markdown",
   "metadata": {},
   "source": [
    "## list vars arranged in Rhat order"
   ]
  },
  {
   "cell_type": "code",
   "execution_count": 106,
   "metadata": {},
   "outputs": [
    {
     "data": {
      "text/html": [
       "<table>\n",
       "<thead><tr><th scope=col>term</th><th scope=col>rhat</th></tr></thead>\n",
       "<tbody>\n",
       "\t<tr><td>s_month  </td><td>1.040647 </td></tr>\n",
       "\t<tr><td>month[25]</td><td>1.039185 </td></tr>\n",
       "\t<tr><td>month[13]</td><td>1.037469 </td></tr>\n",
       "\t<tr><td>month[37]</td><td>1.036549 </td></tr>\n",
       "\t<tr><td>month[49]</td><td>1.033201 </td></tr>\n",
       "\t<tr><td>month[1] </td><td>1.032677 </td></tr>\n",
       "</tbody>\n",
       "</table>\n"
      ],
      "text/latex": [
       "\\begin{tabular}{r|ll}\n",
       " term & rhat\\\\\n",
       "\\hline\n",
       "\t s\\_month   & 1.040647   \\\\\n",
       "\t month{[}25{]} & 1.039185     \\\\\n",
       "\t month{[}13{]} & 1.037469     \\\\\n",
       "\t month{[}37{]} & 1.036549     \\\\\n",
       "\t month{[}49{]} & 1.033201     \\\\\n",
       "\t month{[}1{]}  & 1.032677     \\\\\n",
       "\\end{tabular}\n"
      ],
      "text/markdown": [
       "\n",
       "term | rhat | \n",
       "|---|---|---|---|---|---|\n",
       "| s_month   | 1.040647  | \n",
       "| month[25] | 1.039185  | \n",
       "| month[13] | 1.037469  | \n",
       "| month[37] | 1.036549  | \n",
       "| month[49] | 1.033201  | \n",
       "| month[1]  | 1.032677  | \n",
       "\n",
       "\n"
      ],
      "text/plain": [
       "  term      rhat    \n",
       "1 s_month   1.040647\n",
       "2 month[25] 1.039185\n",
       "3 month[13] 1.037469\n",
       "4 month[37] 1.036549\n",
       "5 month[49] 1.033201\n",
       "6 month[1]  1.032677"
      ]
     },
     "metadata": {},
     "output_type": "display_data"
    }
   ],
   "source": [
    "broom::tidy(fit, rhat=T) %>%\n",
    "    filter(str_detect(term, \"_all\\\\[[0-9]+\\\\]$|_pred\\\\[[0-9]+\\\\]$\") == F) %>%\n",
    "    filter(str_detect(term, \"^former_month\") == F) %>%\n",
    "    select(term, rhat) %>%\n",
    "    arrange(-rhat) %>% \n",
    "    head()"
   ]
  },
  {
   "cell_type": "markdown",
   "metadata": {},
   "source": [
    "# visualization\n",
    "## tidy pre-proccessing"
   ]
  },
  {
   "cell_type": "code",
   "execution_count": 3,
   "metadata": {},
   "outputs": [],
   "source": [
    "ms <- fit %>%\n",
    "    spread_draws(mu_all[t], month_all[t]) %>%\n",
    "    median_qi(.width=0.8, .simple_names=F) %>%\n",
    "    select(-.width, -.point, -.interval) %>%\n",
    "    left_join(\n",
    "        spread_draws(fit, y_pred[t]) %>%\n",
    "            median_qi(.width=0.8, .simple_names=F) %>%\n",
    "            mutate(t = t+nrow(d)) %>%\n",
    "            select(-.width, -.point, -.interval),\n",
    "        by = 't'\n",
    "    )"
   ]
  },
  {
   "cell_type": "markdown",
   "metadata": {},
   "source": [
    "## ggplot"
   ]
  },
  {
   "cell_type": "code",
   "execution_count": null,
   "metadata": {},
   "outputs": [],
   "source": [
    "options(repr.plot.width=8, repr.plot.height=4)\n",
    "ms %>%\n",
    "    ggplot(\n",
    "        aes(date)\n",
    "    ) +\n",
    "    geom_line(aes(y = y_pred)) +\n",
    "    geom_ribbon(aes(ymax = y_pred.upper, ymin = y_pred.lower), alpha=1/3) +\n",
    "    geom_line(aes(y = mu_all), color=\"red\") +\n",
    "    geom_ribbon(aes(ymax = mu_all.upper, ymin = mu_all.lower), alpha=1/5, fill=\"red\") +\n",
    "    scale_y_continuous(labels = scales::comma) +\n",
    "    scale_x_date(date_breaks = \"1 month\", date_labels = \"%Y-%m\") +\n",
    "    theme(axis.text.x = element_text(angle = 90, hjust = 1))"
   ]
  },
  {
   "cell_type": "code",
   "execution_count": null,
   "metadata": {},
   "outputs": [],
   "source": []
  }
 ],
 "metadata": {
  "hide_input": false,
  "kernelspec": {
   "display_name": "R",
   "language": "R",
   "name": "ir"
  },
  "language_info": {
   "codemirror_mode": "r",
   "file_extension": ".r",
   "mimetype": "text/x-r-source",
   "name": "R",
   "pygments_lexer": "r",
   "version": "3.4.4"
  },
  "toc": {
   "base_numbering": 1,
   "nav_menu": {},
   "number_sections": true,
   "sideBar": true,
   "skip_h1_title": false,
   "title_cell": "Table of Contents",
   "title_sidebar": "Contents",
   "toc_cell": false,
   "toc_position": {},
   "toc_section_display": true,
   "toc_window_display": false
  }
 },
 "nbformat": 4,
 "nbformat_minor": 2
}
